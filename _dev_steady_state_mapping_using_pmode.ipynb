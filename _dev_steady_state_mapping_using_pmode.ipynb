{
  "cells": [
    {
      "cell_type": "code",
      "execution_count": 1,
      "id": "5287d3ed",
      "metadata": {
        "colab": {
          "base_uri": "https://localhost:8080/",
          "height": 235
        },
        "id": "5287d3ed",
        "outputId": "99d52425-b985-4f46-bbd4-bc9f5927dbc5"
      },
      "outputs": [],
      "source": [
        "import numpy as np\n",
        "import scipy\n",
        "import scipy.integrate\n",
        "from scipy.special import erf\n",
        "import matplotlib.pyplot as plt\n",
        "import os\n",
        "\n",
        "# os.chdir('/Users/kcoppess/muspelheim/quail_volcano/src/')\n",
        "\n",
        "# import compressible_conduit_steady.steady_state as SS\n",
        "# import compressible_conduit_steady.material_properties as matprops\n",
        "\n",
        "# os.chdir('/Users/kcoppess/muspelheim/quail_ODESS_map/')\n",
        "\n",
        "import steady_state as SS\n",
        "import material_properties as matprops"
      ]
    },
    {
      "cell_type": "code",
      "execution_count": 2,
      "id": "47d82ef2",
      "metadata": {
        "id": "47d82ef2"
      },
      "outputs": [],
      "source": [
        "Numerics = {\n",
        "  # Solution order; these correspond to:\n",
        "  # 0: 1 node in each element representing the average value\n",
        "  # 1: 2 nodes in each element constituting a linear representation of the\n",
        "  #    solution in the element\n",
        "  # 2: 3 nodes in each element constituting a quadratic representation of the\n",
        "  #    solution in the element\n",
        "  \"SolutionOrder\" : 2,\n",
        "#   \"SolutionBasis\" : \"LagrangeSeg\",\n",
        "#   \"Solver\" : \"DG\",\n",
        "#   \"ApplyLimiters\" : \"PositivityPreservingMultiphasevpT\",\n",
        "#   \"ElementQuadrature\" : \"GaussLegendre\",\n",
        "#   \"FaceQuadrature\" : \"GaussLegendre\",\n",
        "#   # Artificial viscosity adds a diffusion term to all equations, where the                                                                                                                              \n",
        "#   # strong form residual is large and where the pressure gradient relative to\n",
        "#   # hydrostatic is large\n",
        "#   \"ArtificialViscosity\" : True,\n",
        "#   \"AVParameter\" : 0.3,\n",
        "#   # If L2InitialCondition is false, use interpolation instead of L2 projection of Riemann data\n",
        "#   'L2InitialCondition': False,\n",
        "}\n",
        "\n",
        "Mesh = {\n",
        "#     \"File\" : None,\n",
        "#     \"ElementShape\" : \"Segment\",\n",
        "    # Use even number if using initial condition with discontinuous pressure\n",
        "    \"NumElemsX\" : 3000, \n",
        "    \"xmin\" : -3000.0 - 150.0,\n",
        "    \"xmax\" : 0.0 - 150.0,\n",
        "}"
      ]
    },
    {
      "cell_type": "code",
      "execution_count": 3,
      "id": "fd5aecf3",
      "metadata": {
        "id": "fd5aecf3"
      },
      "outputs": [],
      "source": [
        "n_elems_per_part = Mesh[\"NumElemsX\"]\n",
        "n_elems_global = 2*n_elems_per_part\n",
        "if Numerics[\"SolutionOrder\"] == 0:\n",
        "    n_nodes_global = n_elems_global\n",
        "elif Numerics[\"SolutionOrder\"] == 1:\n",
        "    n_nodes_global = n_elems_global + 1\n",
        "elif Numerics[\"SolutionOrder\"] == 2:\n",
        "    n_nodes_global = 2*n_elems_global + 1\n",
        "else:\n",
        "    raise ValueError(\"Oops, is there solution order > 2?\")\n",
        "x_global = np.linspace(Mesh[\"xmin\"], Mesh[\"xmax\"], n_nodes_global)\n",
        "\n",
        "phi_crys = 0.4 * (1.1 - 0.1 * np.cos(0.0)) #0.4025 * (1.1 - 0.1 * np.cos(0.0))\n",
        "chi_water = 0.05 #0.05055\n",
        "yWt_init = chi_water * (1 - phi_crys) / (1 + chi_water)\n",
        "yC_init = phi_crys\n",
        "\n",
        "p_vent = 1e5          # Vent pressure\n",
        "inlet_input_val = 3 # Inlet velocity; see also BoundaryCondition[\"x1\"]\n",
        "input_type = \"u\"\n",
        "\n",
        "n0 = chi_water\n",
        "Sm = 4e-6\n",
        "\n",
        "props = {\n",
        "    \"yC\": yC_init,\n",
        "    \"yWt\": yWt_init,\n",
        "    \"yA\": 1e-7,\n",
        "    \"yWvInletMin\": 1e-5,\n",
        "    \"yCMin\": 1e-5,\n",
        "    \"crit_volfrac\": 0.7,\n",
        "    \"tau_d\": 1.0,\n",
        "    \"tau_f\": 1.0,\n",
        "    \"conduit_radius\": 50,\n",
        "    \"T_chamber\": 1000,\n",
        "    \"c_v_magma\": 3e3,\n",
        "    \"rho0_magma\": 2.6e3,\n",
        "    \"K_magma\": 10e9,\n",
        "    \"p0_magma\": (n0 / Sm)**2,\n",
        "    \"solubility_k\": Sm,\n",
        "    \"solubility_n\": 0.5,\n",
        "    \"neglect_edfm\": True,\n",
        "}"
      ]
    },
    {
      "cell_type": "code",
      "execution_count": 4,
      "id": "EMreTOL1w6mz",
      "metadata": {
        "colab": {
          "base_uri": "https://localhost:8080/"
        },
        "id": "EMreTOL1w6mz",
        "outputId": "093e44a9-907e-4d88-a4a1-7905a9e1ee2d"
      },
      "outputs": [
        {
          "data": {
            "text/plain": [
              "{'yC': 0.4,\n",
              " 'yWt': 0.02857142857142857,\n",
              " 'yA': 1e-07,\n",
              " 'yWvInletMin': 1e-05,\n",
              " 'yCMin': 1e-05,\n",
              " 'crit_volfrac': 0.7,\n",
              " 'tau_d': 1.0,\n",
              " 'tau_f': 1.0,\n",
              " 'conduit_radius': 50,\n",
              " 'T_chamber': 1000,\n",
              " 'c_v_magma': 3000.0,\n",
              " 'rho0_magma': 2600.0,\n",
              " 'K_magma': 10000000000.0,\n",
              " 'p0_magma': 156250000.00000006,\n",
              " 'solubility_k': 4e-06,\n",
              " 'solubility_n': 0.5,\n",
              " 'neglect_edfm': True}"
            ]
          },
          "execution_count": 4,
          "metadata": {},
          "output_type": "execute_result"
        }
      ],
      "source": [
        "props"
      ]
    },
    {
      "cell_type": "code",
      "execution_count": 5,
      "id": "a4ff3859",
      "metadata": {},
      "outputs": [],
      "source": [
        "x1 = x_global.copy()\n",
        "x_quail = np.expand_dims(x1, axis=(1, 2))\n",
        "p_range = np.linspace(20e6, 100e6, 8)"
      ]
    },
    {
      "cell_type": "code",
      "execution_count": 6,
      "id": "8c20c2b9",
      "metadata": {},
      "outputs": [
        {
          "name": "stdout",
          "output_type": "stream",
          "text": [
            "Choked at vent.\n"
          ]
        }
      ],
      "source": [
        "f = SS.SteadyState(x1, p_vent, 75e6, input_type='p', override_properties=props)"
      ]
    },
    {
      "cell_type": "code",
      "execution_count": 69,
      "id": "317c05b7",
      "metadata": {},
      "outputs": [],
      "source": [
        "# Forward ranges\n",
        "# forward_p = np.linspace(20e6, 150e6, 216)\n",
        "forward_p = np.linspace(150e6, 228e6, 130)\n",
        "# forward_j0 = np.linspace(10, 2000, 220)\n",
        "forward_j0 = np.linspace(10, 6000, 200)\n",
        "\n",
        "mg_p, mg_j0 = np.meshgrid(forward_p, forward_j0)\n",
        "mg_x_top = np.zeros_like(mg_p)\n",
        "mg_p_top = np.zeros_like(mg_p)\n",
        "mg_T_in = np.zeros_like(mg_p)\n",
        "mg_T_top = np.zeros_like(mg_p)\n",
        "mg_v_in = np.zeros_like(mg_p)\n",
        "mg_v_top = np.zeros_like(mg_p)\n",
        "mg_M_top = np.zeros_like(mg_p)\n",
        "\n",
        "for i, j in np.ndindex(mg_p.shape):\n",
        "  _z = f.solve_ssIVP(mg_p[i,j], mg_j0[i,j], dense_output=False)\n",
        "  mg_x_top[i,j] = _z[0][-1]\n",
        "  mg_p_top[i,j] = _z[1][0,-1]\n",
        "  T_in = f.T_ph(_z[1][0,0], _z[1][1,0], _z[1][2,0])\n",
        "  mg_T_in[i,j] = T_in\n",
        "  T_top = f.T_ph(_z[1][0,-1], _z[1][1,-1], _z[1][2,-1])\n",
        "  mg_T_top[i,j] = T_top\n",
        "  mg_v_in[i,j] = mg_j0[i,j] * f.v_mix(_z[1][0,0], T_in, _z[1][2,0])\n",
        "  mg_v_top[i,j] = mg_j0[i,j] * f.v_mix(_z[1][0,-1], T_top, _z[1][2,-1])\n",
        "  mg_M_top[i,j] = mg_v_top[i,j] / f.mixture.sound_speed(\n",
        "    _z[1][0,-1], T_top, f.yA, _z[1][2,-1], 1.0 - f.yA - _z[1][2,-1])"
      ]
    },
    {
      "cell_type": "code",
      "execution_count": 70,
      "id": "72ad5e2c",
      "metadata": {},
      "outputs": [],
      "source": [
        "import pickle\n",
        "dump_obj2 = {\"mg_p\": mg_p,\n",
        "  \"mg_j0\": mg_j0,\n",
        "  \"mg_x_top\": mg_x_top,\n",
        "  \"mg_p_top\": mg_p_top,\n",
        "  \"mg_T_in\": mg_T_in,\n",
        "  \"mg_T_top\": mg_T_top,\n",
        "  \"mg_v_in\": mg_v_in,\n",
        "  \"mg_v_top\": mg_v_top,\n",
        "  \"mg_M_top\": mg_M_top,\n",
        "}\n",
        "\n",
        "with open(\"dumpy2.pkl\", \"wb\") as f:\n",
        "  pickle.dump(dump_obj2, f, protocol=pickle.HIGHEST_PROTOCOL)"
      ]
    },
    {
      "cell_type": "code",
      "execution_count": 54,
      "id": "31897c98",
      "metadata": {},
      "outputs": [
        {
          "data": {
            "text/plain": [
              "Text(0.5, 1.0, 'M_top')"
            ]
          },
          "execution_count": 54,
          "metadata": {},
          "output_type": "execute_result"
        },
        {
          "data": {
            "image/png": "[encoded data removed]",
            "text/plain": [
              "<Figure size 864x432 with 4 Axes>"
            ]
          },
          "metadata": {
            "needs_background": "light"
          },
          "output_type": "display_data"
        },
        {
          "data": {
            "image/png": "[encoded data removed]",
            "text/plain": [
              "<Figure size 1008x432 with 10 Axes>"
            ]
          },
          "metadata": {
            "needs_background": "light"
          },
          "output_type": "display_data"
        }
      ],
      "source": [
        "# Apply filtering\n",
        "mg_p_top_conditional = np.where(mg_x_top >= -150, mg_p_top, np.nan)\n",
        "\n",
        "plt.figure(figsize=(12,6))\n",
        "plt.subplot(1,2,1)\n",
        "plt.contourf(mg_p, mg_j0, mg_x_top)\n",
        "plt.xlabel(\"Pressure (Pa)\")\n",
        "plt.ylabel(\"Mass flux (...)\")\n",
        "cb = plt.colorbar(label=\"x_top\")\n",
        "\n",
        "plt.subplot(1,2,2)\n",
        "plt.contourf(mg_p, mg_j0, mg_p_top_conditional)\n",
        "plt.xlabel(\"Pressure (Pa)\")\n",
        "plt.ylabel(\"Mass flux (...)\")\n",
        "cb = plt.colorbar(label=\"p I(x_top == x_target)\")\n",
        "plt.title(\"Conditional pressure\")\n",
        "\n",
        "plt.figure(figsize=(14,6))\n",
        "plt.subplot(2,3,1)\n",
        "plt.contourf(mg_p, mg_j0, mg_T_in)\n",
        "plt.ylabel(\"Mass flux (...)\")\n",
        "plt.colorbar()\n",
        "plt.title(\"T_in\")\n",
        "plt.subplot(2,3,2)\n",
        "plt.contourf(mg_p, mg_j0, mg_T_top)\n",
        "plt.ylabel(\"Mass flux (...)\")\n",
        "plt.colorbar()\n",
        "plt.title(\"T_top\")\n",
        "plt.subplot(2,3,3)\n",
        "plt.contourf(mg_p, mg_j0, mg_v_in)\n",
        "plt.xlabel(\"Pressure (Pa)\")\n",
        "plt.ylabel(\"Mass flux (...)\")\n",
        "plt.colorbar()\n",
        "plt.contour(mg_p, mg_j0, mg_v_in, levels=[0.5, 0.6], colors=\"red\")\n",
        "plt.title(\"v_in\")\n",
        "plt.subplot(2,3,4)\n",
        "plt.contourf(mg_p, mg_j0, mg_v_top)\n",
        "plt.xlabel(\"Pressure (Pa)\")\n",
        "plt.ylabel(\"Mass flux (...)\")\n",
        "plt.title(\"v_top\")\n",
        "plt.colorbar()\n",
        "plt.subplot(2,3,5)\n",
        "plt.contourf(mg_p, mg_j0, mg_M_top)\n",
        "plt.xlabel(\"Pressure (Pa)\")\n",
        "plt.ylabel(\"Mass flux (...)\")\n",
        "plt.colorbar()\n",
        "plt.title(\"M_top\")"
      ]
    },
    {
      "cell_type": "code",
      "execution_count": 39,
      "id": "190642b9",
      "metadata": {},
      "outputs": [
        {
          "name": "stderr",
          "output_type": "stream",
          "text": [
            "c:\\Users\\Fredric\\Documents\\Volcano\\quail_volcano\\src\\compressible_conduit_steady\\material_properties.py:168: RuntimeWarning: invalid value encountered in log\n",
            "  return self.K/self.rho0 * (u - np.log(1 + u))\n"
          ]
        },
        {
          "name": "stdout",
          "output_type": "stream",
          "text": [
            "Choked at vent.\n",
            "Choked at vent.\n",
            "Choked at vent.\n",
            "Choked at vent.\n",
            "Choked at vent.\n",
            "Choked at vent.\n",
            "Choked at vent.\n",
            "Choked at vent.\n",
            "Choked at vent.\n",
            "Choked at vent.\n",
            "Choked at vent.\n",
            "Choked at vent.\n"
          ]
        }
      ],
      "source": [
        "backp = np.linspace(50e6, 100e6, 12)\n",
        "\n",
        "solvep = [SS.SteadyState(x1, p_vent, p, input_type='p', override_properties=props)\n",
        "  for p in backp]"
      ]
    },
    {
      "cell_type": "code",
      "execution_count": 42,
      "id": "a0bbc653",
      "metadata": {},
      "outputs": [
        {
          "name": "stderr",
          "output_type": "stream",
          "text": [
            "c:\\Users\\Fredric\\Documents\\Volcano\\quail_volcano\\src\\compressible_conduit_steady\\material_properties.py:168: RuntimeWarning: invalid value encountered in log\n",
            "  return self.K/self.rho0 * (u - np.log(1 + u))\n"
          ]
        },
        {
          "data": {
            "image/png": "[encoded data removed]",
            "text/plain": [
              "<Figure size 432x288 with 1 Axes>"
            ]
          },
          "metadata": {
            "needs_background": "light"
          },
          "output_type": "display_data"
        }
      ],
      "source": [
        "[plt.semilogy(x1, _f(x1, io_format=\"phy\")[0]) for _f in solvep];"
      ]
    },
    {
      "cell_type": "code",
      "execution_count": 8,
      "id": "c5900a2d",
      "metadata": {},
      "outputs": [
        {
          "name": "stdout",
          "output_type": "stream",
          "text": [
            "Choked at vent.\n"
          ]
        },
        {
          "data": {
            "text/plain": [
              "(<function steady_state.SteadyState.solve_ssIVP.<locals>.AinvRHS(x, q, vectorized=False)>,\n",
              " (-3150.0, -150.0),\n",
              " array([1.00000000e+08, 3.03438931e+06, 5.71428571e-03, 0.00000000e+00]),\n",
              " array([-3150.  , -3149.75, -3149.5 , ...,  -150.5 ,  -150.25,  -150.  ]),\n",
              " 'Radau',\n",
              " [<steady_state.SteadyState.solve_ssIVP.<locals>.EventChoked at 0x2b565bcc400>,\n",
              "  <steady_state.SteadyState.solve_ssIVP.<locals>.ZeroPressure at 0x2b565bcc370>,\n",
              "  <steady_state.SteadyState.solve_ssIVP.<locals>.ZeroEnthalpy at 0x2b565bcc430>,\n",
              "  <steady_state.SteadyState.solve_ssIVP.<locals>.PositivePressureGradient at 0x2b565bccc70>])"
            ]
          },
          "execution_count": 8,
          "metadata": {},
          "output_type": "execute_result"
        }
      ],
      "source": [
        "import steady_state as SS\n",
        "# Build steady state object, extract scipy.integrate.solve_ivp inputs\n",
        "f_test = SS.SteadyState(x1, p_vent, 175e6, input_type='p', override_properties=props)\n",
        "f_test._DEBUG = True\n",
        "f_test.solve_ssIVP(100e6, 2400)\n",
        "f_test.ivp_inputs"
      ]
    },
    {
      "cell_type": "code",
      "execution_count": 164,
      "id": "5073961a",
      "metadata": {},
      "outputs": [],
      "source": [
        "''' Vectorizing AinvRHS '''\n",
        "# f_test.T_ph(np.ones((1,3)), np.ones((1,3)), np.ones((1,3))).shape\n",
        "\n",
        "N_vecwise = 100\n",
        "# Test values\n",
        "p, h, y, yF = np.ones((1,N_vecwise)), np.ones((1,N_vecwise)), \\\n",
        "  np.ones((1,N_vecwise)), np.ones((1,N_vecwise))\n",
        "j0 = 1.0\n",
        "yA = 1.0\n",
        "# Compute dependents\n",
        "T     = f_test.T_ph(p, h, y)\n",
        "# dv_dp = y * (R / p * dT_dp(p, h, y) - R * T / p**2) + (1 - y) * dvm_dp(p)\n",
        "# dv_dh = y * R / p * dT_dh(p, h, y)\n",
        "# dv_dy = (v_wv(p, T) - v_m(p)) + y * R / p * dT_dy(p, T, y)\n",
        "v     = f_test.v_mix(p, T, y) \n",
        "u     = j0 * v\n",
        "# Compute first column of A^{-1}:(2,1)\n",
        "a1 = np.vstack((np.ones_like(v), v)) / (1+j0**2 * f_test.dv_dp(p, T, y) \\\n",
        "  + v * j0**2 * f_test.dv_dh(p, T, y))\n",
        "# Compute z == -A^{-1} * b / u\n",
        "z = -j0**2 * f_test.dv_dy(p, T, y) / u * a1\n",
        "# yL = 1.0 - yWt - yC - yA\n",
        "yM = 1.0 - y - yA\n",
        "\n",
        "# Simulacra\n",
        "_Y = p.copy()\n",
        "_F_rho = p.copy()\n",
        "_out = _Y * np.vstack((z,  1/u, np.zeros_like(u))) \\\n",
        "  + _F_rho * np.vstack((a1, np.zeros((2, p.shape[-1])))) \\\n",
        "  + np.vstack([np.zeros((3, p.shape[-1])), (yM - yF) / (u * f_test.tau_f)\n",
        "    * np.array(f_test.vf_g(p, T, y) >= f_test.crit_volfrac).astype(float)])"
      ]
    },
    {
      "cell_type": "code",
      "execution_count": 7,
      "id": "f3718e5e",
      "metadata": {},
      "outputs": [
        {
          "ename": "NameError",
          "evalue": "name 'f_test' is not defined",
          "output_type": "error",
          "traceback": [
            "\u001b[1;31m---------------------------------------------------------------------------\u001b[0m",
            "\u001b[1;31mNameError\u001b[0m                                 Traceback (most recent call last)",
            "\u001b[1;32mc:\\Users\\Fredric\\Documents\\Volcano\\quail_volcano\\src\\compressible_conduit_steady\\steady_state_mapping_using_pmode.ipynb Cell 16\u001b[0m in \u001b[0;36m<cell line: 1>\u001b[1;34m()\u001b[0m\n\u001b[1;32m----> <a href='vscode-notebook-cell:/c%3A/Users/Fredric/Documents/Volcano/quail_volcano/src/compressible_conduit_steady/steady_state_mapping_using_pmode.ipynb#X50sZmlsZQ%3D%3D?line=0'>1</a>\u001b[0m _x_range \u001b[39m=\u001b[39m f_test\u001b[39m.\u001b[39mivp_inputs[\u001b[39m1\u001b[39m]\n\u001b[0;32m      <a href='vscode-notebook-cell:/c%3A/Users/Fredric/Documents/Volcano/quail_volcano/src/compressible_conduit_steady/steady_state_mapping_using_pmode.ipynb#X50sZmlsZQ%3D%3D?line=1'>2</a>\u001b[0m _L \u001b[39m=\u001b[39m _x_range[\u001b[39m1\u001b[39m] \u001b[39m-\u001b[39m _x_range[\u001b[39m0\u001b[39m]\n\u001b[0;32m      <a href='vscode-notebook-cell:/c%3A/Users/Fredric/Documents/Volcano/quail_volcano/src/compressible_conduit_steady/steady_state_mapping_using_pmode.ipynb#X50sZmlsZQ%3D%3D?line=2'>3</a>\u001b[0m _U0 \u001b[39m=\u001b[39m f_test\u001b[39m.\u001b[39mivp_inputs[\u001b[39m2\u001b[39m]\n",
            "\u001b[1;31mNameError\u001b[0m: name 'f_test' is not defined"
          ]
        }
      ],
      "source": [
        "''' Timing for different scaling strategies. '''\n",
        "_x_range = f_test.ivp_inputs[1]\n",
        "_L = _x_range[1] - _x_range[0]\n",
        "_U0 = f_test.ivp_inputs[2]\n",
        "static_scaling = np.array([10e6, 3e6, 1, 1])\n",
        "_f_scaled = lambda t, y, *args, **kwargs: \\\n",
        "  _L * f_test.ivp_inputs[0](t, y, *args, **kwargs)\n",
        "\n",
        "is_vec = False\n",
        "solvewrap = lambda: scipy.integrate.solve_ivp(\n",
        "  lambda t, y: f_test.ivp_inputs[0](t, y, vectorized=is_vec),\n",
        "  *f_test.ivp_inputs[1:3],\n",
        "  method=\"Radau\",\n",
        "  dense_output=False,\n",
        "  events=f_test.ivp_inputs[-1],\n",
        "  vectorized=is_vec)\n",
        "\n",
        "solvewrap_scaled = lambda: scipy.integrate.solve_ivp(\n",
        "  lambda t, y: _f_scaled(t, y, vectorized=is_vec),\n",
        "  np.array(_x_range)/_L, _U0,\n",
        "  method=\"Radau\",\n",
        "  dense_output=False,\n",
        "  events=f_test.ivp_inputs[-1],\n",
        "  vectorized=is_vec)\n",
        "_f_scaled, (0, 1)\n",
        "\n",
        "%timeit -n 5 solvewrap()\n",
        "%timeit -n 5 solvewrap_scaled()"
      ]
    },
    {
      "cell_type": "code",
      "execution_count": 11,
      "id": "9fa86376",
      "metadata": {},
      "outputs": [],
      "source": [
        "forward_p = np.linspace(5e5, 250e6, 230)\n",
        "forward_j0 = np.linspace(10, 8000, 200)\n",
        "mg_p, mg_j0 = np.meshgrid(forward_p, forward_j0)\n",
        "out = SS.parallel_foward_map(f, mg_p, mg_j0)"
      ]
    },
    {
      "cell_type": "code",
      "execution_count": 51,
      "id": "969502b0",
      "metadata": {},
      "outputs": [],
      "source": [
        "'''Choking line sampling (inlet pressures that are closest to choking in samples)'''\n",
        "# Row index (input mass flux) associated with choked flow\n",
        "i_choked = np.argmin(out[\"x_top\"] >= -150, axis=0)\n",
        "# Set filter for column index that have choked flow\n",
        "has_choking_filter = np.asarray(~np.all(out[\"x_top\"] >= -150, axis=0) \n",
        "         & ~np.all(out[\"x_top\"] < -150, axis=0)).nonzero()[0]\n",
        "i_choked = i_choked[has_choking_filter]\n",
        "j_choked = np.arange(mg_p.shape[1])[has_choking_filter]\n",
        "# Column index (input mass flux) associated with choked flow\n",
        "\n",
        "# p_choked = out[\"p_top\"][i_choked, j_choked]\n",
        "p_choked = out[\"p_top\"][i_choked, j_choked]\n",
        "vel_in_choked = out[\"vel_in\"][i_choked, j_choked]\n",
        "p_in_choked = mg_p[i_choked, j_choked]"
      ]
    },
    {
      "cell_type": "code",
      "execution_count": 55,
      "id": "5a308540",
      "metadata": {},
      "outputs": [
        {
          "data": {
            "text/plain": [
              "Text(0.5, 1.0, 'Inlet velocity-pressure relation at choked state')"
            ]
          },
          "execution_count": 55,
          "metadata": {},
          "output_type": "execute_result"
        },
        {
          "data": {
            "image/png": "[encoded data removed]",
            "text/plain": [
              "<Figure size 432x288 with 1 Axes>"
            ]
          },
          "metadata": {
            "needs_background": "light"
          },
          "output_type": "display_data"
        }
      ],
      "source": [
        "''' Plot p-vel relation at choking'''\n",
        "plt.plot(vel_in_choked, p_in_choked, '.k')\n",
        "plt.xlim(0, 5)\n",
        "plt.ylim(0, 2.5e8)\n",
        "plt.xlabel(\"Inlet velocity (m/s)\")\n",
        "plt.ylabel(\"Inlet pressure (Pa)\")\n",
        "plt.grid(axis=\"both\", which=\"both\")\n",
        "plt.title(\"Inlet velocity-pressure relation at choked state\")"
      ]
    },
    {
      "cell_type": "code",
      "execution_count": 16,
      "id": "04f0c9a1",
      "metadata": {},
      "outputs": [
        {
          "data": {
            "text/plain": [
              "[<matplotlib.lines.Line2D at 0x19638e4e850>]"
            ]
          },
          "execution_count": 16,
          "metadata": {},
          "output_type": "execute_result"
        },
        {
          "data": {
            "image/png": "[encoded data removed]",
            "text/plain": [
              "<Figure size 432x288 with 1 Axes>"
            ]
          },
          "metadata": {
            "needs_background": "light"
          },
          "output_type": "display_data"
        },
        {
          "data": {
            "image/png": "[encoded data removed]",
            "text/plain": [
              "<Figure size 432x288 with 1 Axes>"
            ]
          },
          "metadata": {
            "needs_background": "light"
          },
          "output_type": "display_data"
        }
      ],
      "source": [
        "plt.contourf(mg_p, mg_j0, out[\"p_top\"])\n",
        "plt.figure()\n",
        "plt.plot(vel_in_choked, p_in_choked)"
      ]
    },
    {
      "cell_type": "code",
      "execution_count": null,
      "id": "aef4faae",
      "metadata": {},
      "outputs": [],
      "source": []
    },
    {
      "cell_type": "code",
      "execution_count": 114,
      "id": "46ad6b07",
      "metadata": {},
      "outputs": [
        {
          "name": "stdout",
          "output_type": "stream",
          "text": [
            "313 ms ± 2.46 ms per loop (mean ± std. dev. of 7 runs, 1 loop each)\n"
          ]
        }
      ],
      "source": [
        "%timeit scipy.integrate.solve_ivp(*f_test.ivp_inputs[0:3], method=\"Radau\", rtol=1e-3, dense_output=False, events=f_test.ivp_inputs[-1])\n",
        "# %timeit scipy.integrate.solve_ivp(*f_test.ivp_inputs[0:3], method=\"Radau\", dense_output=False, events=f_test.ivp_inputs[-1], vectorized=True)"
      ]
    },
    {
      "cell_type": "code",
      "execution_count": null,
      "id": "2ddf3055",
      "metadata": {},
      "outputs": [],
      "source": [
        "''' Profiling AinvRHS '''\n",
        "lp = LineProfiler()\n",
        "lp(f_test.ivp_inputs[0])(\n",
        "  f_test.ivp_inputs[1], f_test.ivp_inputs[2])\n",
        "lp.print_stats()"
      ]
    },
    {
      "cell_type": "code",
      "execution_count": null,
      "id": "8178f952",
      "metadata": {},
      "outputs": [],
      "source": [
        "f_raw = lambda: scipy.integrate.solve_ivp(\n",
        "  *f_test.ivp_inputs[0:3],\n",
        "  method=\"Radau\",\n",
        "  dense_output=False,\n",
        "  events=f_test.ivp_inputs[-1])\n",
        "lp(scipy.integrate.solve_ivp)(*f_test.ivp_inputs[0:3],\n",
        "  method=\"Radau\",\n",
        "  dense_output=False,\n",
        "  events=f_test.ivp_inputs[-1])\n",
        "lp.print_stats()"
      ]
    },
    {
      "cell_type": "code",
      "execution_count": 87,
      "id": "85401994",
      "metadata": {},
      "outputs": [
        {
          "name": "stdout",
          "output_type": "stream",
          "text": [
            "Timer unit: 1e-07 s\n",
            "\n",
            "Total time: 0.403803 s\n",
            "File: c:\\Users\\Fredric\\Documents\\Volcano\\quail_volcano\\src\\compressible_conduit_steady\\steady_state.py\n",
            "Function: solve_ssIVP at line 299\n",
            "\n",
            "Line #      Hits         Time  Per Hit   % Time  Line Contents\n",
            "==============================================================\n",
            "   299                                             def solve_ssIVP(self, p_chamber, j0, dense_output=False) -> tuple:\n",
            "   300                                               ''' Solves initial value problem for (p,h,y)(x), given fully specified\n",
            "   301                                               chamber (boundary) state.\n",
            "   302                                               Returns:\n",
            "   303                                                 t: array\n",
            "   304                                                 state: array (p, h, y) (array sized 3 x ...)\n",
            "   305                                                 tup: informational tuple with solve_ivp return value `soln`,\n",
            "   306                                                   and system eigvals at vent) '''\n",
            "   307                                           \n",
            "   308                                               # Pull parameter values\n",
            "   309         1          7.0      7.0      0.0      yA, yWt, yC, crit_volfrac, mu, tau_d, tau_f, conduit_radius, T_chamber = \\\n",
            "   310         1         41.0     41.0      0.0        self.yA, self.yWt, self.yC, self.crit_volfrac, self.mu, self.tau_d, \\\n",
            "   311         1         11.0     11.0      0.0        self.tau_f, self.conduit_radius, self.T_chamber\n",
            "   312         1          8.0      8.0      0.0      yFInlet = self.yFInlet\n",
            "   313                                               # Compute auxiliary inlet conditions\n",
            "   314         1      15948.0  15948.0      0.4      yWvInlet = np.clip(self.y_wv_eq(p_chamber), self.yWvInletMin, None)\n",
            "   315         1       1681.0   1681.0      0.0      h_chamber = self.mixture.h_mix(\n",
            "   316         1         11.0     11.0      0.0        p_chamber, T_chamber, yA, yWvInlet, 1.0-yA-yWvInlet)\n",
            "   317                                           \n",
            "   318                                               ''' Define momentum source (using captured parameters). '''\n",
            "   319                                               # Define gravity momentum source\n",
            "   320         1          8.0      8.0      0.0      F_grav = lambda rho: rho * (-9.8)\n",
            "   321                                               # Define ODE momentum source term sum in terms of density rho\n",
            "   322         1         10.0     10.0      0.0      F_rho = lambda p, T, y, yF, rho: F_grav(rho) \\\n",
            "   323                                                 + self.F_fric(p, T, y, yF, rho, j0/rho)\n",
            "   324                                           \n",
            "   325                                               ''' Define water vapour mass fraction source. '''\n",
            "   326                                               # Define source in mass per total volume\n",
            "   327         1         11.0     11.0      0.0      S_source = lambda p, y, rho: rho / tau_d * (1.0 - yC - yWt - yA) * float(y > 0) * (\n",
            "   328                                                 (yWt - y)/(1.0 - yC - yWt) - self.x_sat(p))\n",
            "   329                                               # Define equivalent source for mass fraction exsolved (y, or yWv)\n",
            "   330         1          6.0      6.0      0.0      target_yWd = lambda p: np.clip(\n",
            "   331                                                 self.x_sat(p) * (1.0 - yC - yWt - yA), 0, yWt - self.yWvInletMin)\n",
            "   332         1          6.0      6.0      0.0      Y = lambda p, y: 1.0 / tau_d * ((yWt - y) - target_yWd(p))\n",
            "   333                                               # One-way gating\n",
            "   334                                               # Y = lambda p, y: float(y > 0) * Y_unlimited(p, y) \\\n",
            "   335                                               #   + float(y <= 0) * np.clip(Y_unlimited(p,y), 0, None)\n",
            "   336                                               # Ramp gating\n",
            "   337                                               # Y = lambda p, y: np.clip(y, None, self.yWvInletMin) / self.yWvInletMin * Y_unlimited(p, y)\n",
            "   338                                               \n",
            "   339                                               ''' Set source term vector. '''\n",
            "   340         1         27.0     27.0      0.0      def F(q):\n",
            "   341                                                 # Unpack q of size (4,1)\n",
            "   342                                                 p, h, y, yF = q\n",
            "   343                                                 F = np.zeros((4,1))\n",
            "   344                                                 # Compute mixture temperature, density\n",
            "   345                                                 T = self.T_ph(p, h, y)\n",
            "   346                                                 rho = 1.0/self.v_mix(p, T, y)\n",
            "   347                                                 # Compute (constant) liquid melt fraction\n",
            "   348                                                 yL = 1.0 - self.yWt - self.yC - self.yA\n",
            "   349                                                 yM = 1.0 - self.yA - y\n",
            "   350                                                 # Compute source vector\n",
            "   351                                                 F[0] = F_rho(p, T, y, yF, rho) \n",
            "   352                                                 F[2] = Y(p, y)\n",
            "   353                                                 F[3] = (yM - yF) / self.tau_f * float(self.vf_g(p, T, y) >= self.crit_volfrac)\n",
            "   354                                                 return F\n",
            "   355         1          7.0      7.0      0.0      if self._DEBUG:  \n",
            "   356                                                 # Cache source term (cannot be pickled with default pickle module)\n",
            "   357         1         26.0     26.0      0.0        self.F = F\n",
            "   358                                           \n",
            "   359                                               ''' Set ODE RHS A^{-1} F '''\n",
            "   360         1         26.0     26.0      0.0      def AinvRHS_numinv(x, q):\n",
            "   361                                                 ''' Basic A^{-1} F evaluation.\n",
            "   362                                                 Used in ODE solver for dq/dx == RHS(x, q).\n",
            "   363                                                 Use AinvRHS instead for speed; this function\n",
            "   364                                                 shows more clearly the equation being solved,\n",
            "   365                                                 but relies on numerical inversion of a 4x4\n",
            "   366                                                 matrix.\n",
            "   367                                                 '''\n",
            "   368                                                 # Solve for RHS ode\n",
            "   369                                                 return np.linalg.solve(self.A(*q, j0), F(q)).flatten()\n",
            "   370                                           \n",
            "   371         1         15.0     15.0      0.0      def AinvRHS(x, q):\n",
            "   372                                                 ''' Precomputed A^{-1} f for speed.\n",
            "   373                                                 Uses block triangular inverse of\n",
            "   374                                                   [A b]^{-1}  = [A^{-1}  z ]\n",
            "   375                                                   [  u]         [       1/u]\n",
            "   376                                                 applied to sparse RHS vector F.\n",
            "   377                                                 Use this instead of RHS for speed.\n",
            "   378                                                 '''\n",
            "   379                                                 # Unpack\n",
            "   380                                                 p, h, y, yF = q\n",
            "   381                                                 # Compute dependents\n",
            "   382                                                 T     = self.T_ph(p, h, y)\n",
            "   383                                                 # dv_dp = y * (R / p * dT_dp(p, h, y) - R * T / p**2) + (1 - y) * dvm_dp(p)\n",
            "   384                                                 # dv_dh = y * R / p * dT_dh(p, h, y)\n",
            "   385                                                 # dv_dy = (v_wv(p, T) - v_m(p)) + y * R / p * dT_dy(p, T, y)\n",
            "   386                                                 v     = self.v_mix(p, T, y) \n",
            "   387                                                 u     = j0 * v\n",
            "   388                                                 # Compute first column of A^{-1}:(2,1)\n",
            "   389                                                 a1 = np.array([1, v]) / (1+j0**2 * self.dv_dp(p, T, y) \\\n",
            "   390                                                   + v * j0**2 * self.dv_dh(p, T, y))\n",
            "   391                                                 # Compute z == -A^{-1} * b / u\n",
            "   392                                                 z = -j0**2 * self.dv_dy(p, T, y) / u * a1\n",
            "   393                                                 # yL = 1.0 - yWt - yC - yA\n",
            "   394                                                 yM = 1.0 - y - yA\n",
            "   395                                                 return Y(p, y) * np.array([*z, 1/u, 0]) \\\n",
            "   396                                                   + F_rho(p, T, y, yF, 1.0/v) * np.array([*a1, 0, 0]) \\\n",
            "   397                                                   + np.array([0, 0, 0, (yM - yF) / (u * self.tau_f)\n",
            "   398                                                     * float(self.vf_g(p, T, y) >= self.crit_volfrac)])\n",
            "   399                                               \n",
            "   400         1         21.0     21.0      0.0      def RHS_reduced(x, q):\n",
            "   401                                                 ''' Reduced-size system for j0 == 0 case. (2x1 instead of 4x1).\n",
            "   402                                                 Length scale of exsolution and fragmentation -> 0. '''\n",
            "   403                                                 p, h = q\n",
            "   404                                                 F = np.zeros((2,1))\n",
            "   405                                                 # Equilibrium water vapour\n",
            "   406                                                 y = self.y_wv_eq(p)\n",
            "   407                                                 # Compute mixture temperature\n",
            "   408                                                 T = self.T_ph(p, h, y)\n",
            "   409                                                 v = self.v_mix(p, T, y)\n",
            "   410                                                 # Compute fragmented mass fraction\n",
            "   411                                                 yM = 1.0 - y - yA\n",
            "   412                                                 yF = yM if self.vf_g(p, T, y) >= self.crit_volfrac else 0\n",
            "   413                                                 # Compute source vector with idempotent A^{-1} = A premultiplied\n",
            "   414                                                 F[0] = 1\n",
            "   415                                                 F[1] = v\n",
            "   416                                                 F *= F_rho(p, T, y, yF, 1.0/self.v_mix(p, T, y)) \n",
            "   417                                                 return F.flatten()\n",
            "   418                                               \n",
            "   419                                               ''' Define postprocessing eigenvalue checker '''  \n",
            "   420                                               # Set captured lambdas\n",
            "   421         1         19.0     19.0      0.0      T_ph, dv_dp, v_mix, dv_dh = self.T_ph, self.dv_dp, self.v_mix, self.dv_dh\n",
            "   422         1        917.0    917.0      0.0      class EventChoked():\n",
            "   423                                                 def __init__(self, y_wv_eq=None):\n",
            "   424                                                   self.terminal = True\n",
            "   425                                                   self.sonic_tol = 1e-7\n",
            "   426                                                   # Capture function p -> y_wv if provided\n",
            "   427                                                   self.y_wv_eq = y_wv_eq\n",
            "   428                                                 def __call__(self, t, q):\n",
            "   429                                                   # Compute equivalent condition to conjugate pair eigenvalue == 0\n",
            "   430                                                   # Note that this does not check the condition u == 0 (or j0 == 0).\n",
            "   431                                                   if len(q) > 2:\n",
            "   432                                                     p, h, y, yF = q\n",
            "   433                                                   else:\n",
            "   434                                                     p, h = q\n",
            "   435                                                     y = self.y_wv_eq(p)\n",
            "   436                                                   T = T_ph(p, h, y)\n",
            "   437                                                   # dv_dp = y * (R / p * dT_dp(p, h, y) - R * T / p**2) + (1 - y) * dvm_dp(p)\n",
            "   438                                                   # dv_dh = y * R / p * dT_dh(p, h, y)\n",
            "   439                                                   return j0**2 * (dv_dp(p, T, y) \n",
            "   440                                                     + v_mix(p, T, y) * dv_dh(p, T, y)) \\\n",
            "   441                                                     + 1.0 - self.sonic_tol\n",
            "   442                                                   # Default numerical eigenvalue computation\n",
            "   443                                                   return np.abs(np.linalg.eigvals(A(*q, j0))).min() - self.sonic_tol\n",
            "   444                                               \n",
            "   445         1        396.0    396.0      0.0      class ZeroPressure():\n",
            "   446                                                 def __init__(self):\n",
            "   447                                                   self.terminal = True\n",
            "   448                                                   self.direction = -1.0\n",
            "   449                                                 def __call__(self, t, q):\n",
            "   450                                                   return q[0] # p\n",
            "   451                                           \n",
            "   452         1         99.0     99.0      0.0      class ZeroEnthalpy():\n",
            "   453                                                 def __init__(self):\n",
            "   454                                                   self.terminal = True\n",
            "   455                                                   self.direction = -1.0\n",
            "   456                                                 def __call__(self, t, q):\n",
            "   457                                                   return q[1] # h\n",
            "   458                                               \n",
            "   459         1        829.0    829.0      0.0      class PositivePressureGradient():\n",
            "   460                                                 def __init__(self, RHS):\n",
            "   461                                                   self.terminal = True\n",
            "   462                                                   self.RHS = RHS\n",
            "   463                                                 def __call__(self, t, q):\n",
            "   464                                                   # Right hand side of dp/dx; is zero when dp/dx>0\n",
            "   465                                                   return float(self.RHS(t, q)[0] <= 0)\n",
            "   466                                           \n",
            "   467                                               # Set chamber (inlet) condition (p, h, y) with y = y_eq at pressure\n",
            "   468         1       1048.0   1048.0      0.0      q0 = np.array([p_chamber, h_chamber, yWvInlet, yFInlet])\n",
            "   469                                           \n",
            "   470         1          5.0      5.0      0.0      if self._DEBUG:\n",
            "   471                                                 # Cache ODE details\n",
            "   472         1        250.0    250.0      0.0        self.ivp_inputs = (AinvRHS, (self.x_mesh[0],self.x_mesh[-1]), q0, self.x_mesh, \"Radau\",\n",
            "   473         1       1082.0   1082.0      0.0          [EventChoked(), ZeroPressure(), ZeroEnthalpy(), PositivePressureGradient(AinvRHS)])\n",
            "   474                                               # Call ODE solver\n",
            "   475         1          4.0      4.0      0.0      if j0 > 0:\n",
            "   476         1    4013908.0 4013908.0     99.4        soln = scipy.integrate.solve_ivp(AinvRHS,\n",
            "   477         1         13.0     13.0      0.0          (self.x_mesh[0],self.x_mesh[-1]),\n",
            "   478         1          3.0      3.0      0.0          q0,\n",
            "   479                                                   # t_eval=self.x_mesh,\n",
            "   480         1          2.0      2.0      0.0          method=\"Radau\", dense_output=dense_output,\n",
            "   481         1         32.0     32.0      0.0          events=[EventChoked(), ZeroPressure(),\n",
            "   482         1         25.0     25.0      0.0            ZeroEnthalpy(), PositivePressureGradient(AinvRHS)])\n",
            "   483                                                 # Output solution\n",
            "   484         1        772.0    772.0      0.0        soln_state = soln.y\n",
            "   485                                               else: # Exsolution length scale u * tau_d -> 0\n",
            "   486                                                 # Exact zero flux: use reduced (equilibrium chemistry) system\n",
            "   487                                                 soln = scipy.integrate.solve_ivp(RHS_reduced,\n",
            "   488                                                   (self.x_mesh[0],self.x_mesh[-1]),\n",
            "   489                                                   q0[0:2],\n",
            "   490                                                   t_eval=self.x_mesh,\n",
            "   491                                                   method=\"Radau\", dense_output=dense_output,\n",
            "   492                                                   events=[EventChoked(y_wv_eq=self.y_wv_eq), ZeroPressure(),\n",
            "   493                                                     ZeroEnthalpy(), PositivePressureGradient(RHS_reduced)])\n",
            "   494                                                 # Augment output solution with y at equilibrium and yF based on fragmentation criterion\n",
            "   495                                                 p = soln.y[0,:]\n",
            "   496                                                 yWv = self.y_wv_eq(p)\n",
            "   497                                                 yM = 1.0 - yWv - self.yA\n",
            "   498                                                 T = self.T_ph(p, soln.y[1,:], yWv)\n",
            "   499                                                 yF = yM.copy()\n",
            "   500                                                 yF = np.where(self.vf_g(p, T, yWv) >= self.crit_volfrac, yM, 0.0)\n",
            "   501                                                 soln_state = np.vstack((soln.y, yWv, yF))\n",
            "   502                                           \n",
            "   503                                               # Compute eigenvalues at the final t\n",
            "   504         1        742.0    742.0      0.0      eigvals_t_final = self.eigA(*soln_state[:,-1], j0)\n",
            "   505                                           \n",
            "   506         1         19.0     19.0      0.0      return soln.t, soln_state, (soln, eigvals_t_final)\n",
            "\n"
          ]
        }
      ],
      "source": [
        "from line_profiler import LineProfiler\n",
        "lp = LineProfiler()\n",
        "lp_wrapper = lp(f_test.solve_ssIVP)\n",
        "lp_wrapper(100e6, 2400)\n",
        "lp.print_stats()"
      ]
    },
    {
      "cell_type": "code",
      "execution_count": 7,
      "id": "fb4a6195",
      "metadata": {
        "id": "fb4a6195",
        "outputId": "d6e6c9ac-08b1-457a-c98c-03ac2a93193b"
      },
      "outputs": [
        {
          "name": "stdout",
          "output_type": "stream",
          "text": [
            "Choked at vent.\n"
          ]
        },
        {
          "name": "stderr",
          "output_type": "stream",
          "text": [
            "c:\\Users\\Fredric\\Documents\\Volcano\\quail_volcano\\src\\compressible_conduit_steady\\material_properties.py:168: RuntimeWarning: invalid value encountered in log\n",
            "  return self.K/self.rho0 * (u - np.log(1 + u))\n"
          ]
        },
        {
          "name": "stdout",
          "output_type": "stream",
          "text": [
            "Choked at vent.\n"
          ]
        }
      ],
      "source": [
        "\n",
        "\n",
        "f1 = SS.SteadyState(x1, p_vent, 75e6, input_type='p', override_properties=props)\n",
        "f5 = SS.SteadyState(x1, p_vent, 90e6, input_type='p', override_properties=props)\n",
        "\n",
        "soln1 = f1(x1, io_format=\"phy\")\n",
        "p1, h1, y1, yFsoln1 = soln1[0:4]\n",
        "T1 = f1.T_ph(p1, h1, y1)\n",
        "rho1 = 1.0 / f1.v_mix(p1, T1, y1)\n",
        "\n",
        "soln_quail1 = f1(x_quail, io_format=\"quail\")\n",
        "u1 = f1.j0 / rho1\n",
        "c_fn1 = lambda p, h, yWv: f1.mixture.sound_speed(\n",
        "  p, f1.T_ph(p, h, yWv), f1.yA, yWv, 1.0 - f1.yA - yWv)\n",
        "c1 = np.array(list(map(c_fn1, p1, h1, y1)))\n",
        "phi1 = f1.mixture.vf_g(p1, T1, f1.yA, y1, 1.0-f1.yA-y1)\n",
        "\n",
        "drag_fn1 = lambda p1, T1, y1, yFsoln1, rho1, u1: f1.F_fric(p1, T1, y1, yFsoln1, rho1, u1)\n",
        "drag1 = np.array(list(map(drag_fn1, p1, T1, y1, yFsoln1, rho1, u1)))\n",
        "eta_fn1 = lambda T1, y1, yFsoln1: f1.F_fric_viscosity_model(T1, y1, yFsoln1)\n",
        "eta1 = np.array(list(map(eta_fn1, T1, y1, yFsoln1)))\n",
        "\n",
        "soln5 = f5(x1, io_format=\"phy\")\n",
        "p5, h5, y5, yFsoln5 = soln5[0:4]\n",
        "T5 = f5.T_ph(p5, h5, y5)\n",
        "rho5 = 1.0 / f5.v_mix(p5, T5, y5)\n",
        "soln_quail5 = f5(x_quail, io_format=\"quail\")\n",
        "u5 = f5.j0 / rho5\n",
        "c_fn5 = lambda p, h, yWv: f5.mixture.sound_speed(\n",
        "  p, f5.T_ph(p, h, yWv), f5.yA, yWv, 1.0 - f5.yA - yWv)\n",
        "c5 = np.array(list(map(c_fn5, p5, h5, y5)))\n",
        "phi5 = f5.mixture.vf_g(p5, T5, f5.yA, y5, 1.0-f5.yA-y5)\n",
        "drag_fn5 = lambda p1, T1, y1, yFsoln1, rho1, u1: f5.F_fric(p1, T1, y1, yFsoln1, rho1, u1)\n",
        "drag5 = np.array(list(map(drag_fn5, p5, T5, y5, yFsoln5, rho5, u5)))\n",
        "eta_fn5 = lambda T1, y1, yFsoln1: f5.F_fric_viscosity_model(T1, y1, yFsoln1)\n",
        "eta5 = np.array(list(map(eta_fn5, T5, y5, yFsoln5)))"
      ]
    },
    {
      "cell_type": "code",
      "execution_count": 8,
      "id": "813af79b",
      "metadata": {
        "id": "813af79b",
        "outputId": "cfe07a3e-a339-4546-80d4-5ce650fdcd57"
      },
      "outputs": [
        {
          "data": {
            "image/png": "[encoded data removed]",
            "text/plain": [
              "<Figure size 864x360 with 5 Axes>"
            ]
          },
          "metadata": {
            "needs_background": "light"
          },
          "output_type": "display_data"
        }
      ],
      "source": [
        "%matplotlib inline\n",
        "\n",
        "x = x_global.copy()\n",
        "\n",
        "plt.figure(figsize=(12,5))\n",
        "plt.subplot(1,5,1)\n",
        "plt.plot(p5, x*1e-3, '.-')\n",
        "plt.plot(p1, x*1e-3, '.-')\n",
        "# plt.plot(eta1 * (1 - yFsoln1 / (1.0 - y1)), x*1e-3, '.-')\n",
        "# plt.plot(eta1, x*1e-3, '.-')\n",
        "plt.xlabel('pressure')\n",
        "plt.subplot(1,5,2)\n",
        "plt.plot(u5, x*1e-3, '.-')\n",
        "plt.plot(u1, x*1e-3, '.-')\n",
        "plt.xlabel('velocity')\n",
        "plt.subplot(1,5,3)\n",
        "plt.plot(yFsoln5 / (1.0 - y5), x*1e-3, '.-')\n",
        "plt.plot(yFsoln1/ (1.0 - y1), x*1e-3, '.-')\n",
        "plt.axvline(1)\n",
        "plt.xlabel('fragmented fraction')\n",
        "plt.subplot(1,5,4)\n",
        "plt.plot(phi5, x*1e-3, '.-')\n",
        "plt.plot(phi1, x*1e-3, '.-')\n",
        "plt.xlabel('exsolved gas VF')\n",
        "plt.subplot(1,5,5)\n",
        "plt.plot(u5/c5, x*1e-3, '.-', label=f'p={p5.ravel()[0]/1e6:.0f}MPa (u={u5.ravel()[0]:.4f} m/s)')\n",
        "plt.plot(u1/c1, x*1e-3, '.-', label=f'p={p1.ravel()[0]/1e6:.0f}MPa (u={u1.ravel()[0]:.4f} m/s)')\n",
        "plt.xlabel('Mach number')\n",
        "plt.legend(loc=4)\n",
        "\n",
        "plt.tight_layout()\n",
        "# plt.savefig('/Users/kcoppess/Desktop/steadystate/exampleSoln1.png', dpi=300)\n",
        "plt.show() "
      ]
    }
  ],
  "metadata": {
    "colab": {
      "provenance": []
    },
    "kernelspec": {
      "display_name": "Python 3.9.1 64-bit",
      "language": "python",
      "name": "python3"
    },
    "language_info": {
      "codemirror_mode": {
        "name": "ipython",
        "version": 3
      },
      "file_extension": ".py",
      "mimetype": "text/x-python",
      "name": "python",
      "nbconvert_exporter": "python",
      "pygments_lexer": "ipython3",
      "version": "3.9.1"
    },
    "vscode": {
      "interpreter": {
        "hash": "81794d4967e6c3204c66dcd87b604927b115b27c00565d3d43f05ba2f3a2cb0d"
      }
    }
  },
  "nbformat": 4,
  "nbformat_minor": 5
}
